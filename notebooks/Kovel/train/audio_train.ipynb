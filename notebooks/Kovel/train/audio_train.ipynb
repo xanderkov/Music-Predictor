{
 "cells": [
  {
   "cell_type": "code",
   "execution_count": 69,
   "metadata": {},
   "outputs": [
    {
     "data": {
      "application/vnd.jupyter.widget-view+json": {
       "model_id": "b65981e655c74b149ab4616615ac9e95",
       "version_major": 2,
       "version_minor": 0
      },
      "text/plain": [
       "Resolving data files:   0%|          | 0/25 [00:00<?, ?it/s]"
      ]
     },
     "metadata": {},
     "output_type": "display_data"
    }
   ],
   "source": [
    "from datasets import load_dataset\n",
    "\n",
    "ds = load_dataset(\"luli0034/music-tags-to-spectrogram\", split='train')"
   ]
  },
  {
   "cell_type": "code",
   "execution_count": 70,
   "metadata": {},
   "outputs": [],
   "source": [
    "import numpy as np\n",
    "import torch\n",
    "from torch import nn\n",
    "from torch.utils.data import DataLoader, Dataset\n",
    "from torchvision import models, transforms\n",
    "from sklearn.model_selection import train_test_split\n",
    "from sklearn.preprocessing import MultiLabelBinarizer\n",
    "from sklearn.feature_extraction.text import CountVectorizer\n",
    "from sklearn.metrics import classification_report, accuracy_score\n",
    "from datasets import load_dataset\n",
    "from PIL import Image"
   ]
  },
  {
   "cell_type": "markdown",
   "metadata": {},
   "source": [
    "## Возьму только 10 процентов датасета, чтобы просто проверить, что модель может обучиться"
   ]
  },
  {
   "cell_type": "code",
   "execution_count": 71,
   "metadata": {},
   "outputs": [
    {
     "name": "stdout",
     "output_type": "stream",
     "text": [
      "Dataset({\n",
      "    features: ['image', 'text'],\n",
      "    num_rows: 154\n",
      "})\n"
     ]
    }
   ],
   "source": [
    "subset_size = int(len(ds) * 0.1) \n",
    "subset = ds.select(range(subset_size)) \n",
    "\n",
    "print(subset)\n",
    "ds = subset"
   ]
  },
  {
   "cell_type": "markdown",
   "metadata": {},
   "source": [
    "## Спектрограмка"
   ]
  },
  {
   "cell_type": "code",
   "execution_count": 72,
   "metadata": {},
   "outputs": [],
   "source": [
    "pimg = np.array(pimg)"
   ]
  },
  {
   "cell_type": "markdown",
   "metadata": {},
   "source": [
    "> Ее бы в ряд Фурье, извлечь какие-нибудь признаки и вообще жить прекрасно"
   ]
  },
  {
   "cell_type": "markdown",
   "metadata": {},
   "source": [
    "### У всех спектрограмм одинаковая высота 512"
   ]
  },
  {
   "cell_type": "code",
   "execution_count": 73,
   "metadata": {},
   "outputs": [
    {
     "data": {
      "image/png": "[encoded data removed]",
      "text/plain": [
       "<Figure size 1000x600 with 1 Axes>"
      ]
     },
     "metadata": {},
     "output_type": "display_data"
    }
   ],
   "source": [
    "import matplotlib.pyplot as plt\n",
    "\n",
    "widths = []\n",
    "\n",
    "for sample in ds:\n",
    "    img = np.array(sample['image'])\n",
    "    widths.append(img.shape[1])  \n",
    "\n",
    "widths = np.array(widths)\n",
    "\n",
    "plt.figure(figsize=(10, 6))\n",
    "plt.hist(widths, bins=30, color='skyblue', edgecolor='black')\n",
    "plt.title('Histogram of Image Widths in Dataset')\n",
    "plt.xlabel('Width')\n",
    "plt.ylabel('Frequency')\n",
    "plt.grid(axis='y', alpha=0.75)\n",
    "plt.show()"
   ]
  },
  {
   "cell_type": "markdown",
   "metadata": {},
   "source": [
    "> Видим, что длина очень разная и просто брать и превращать все спектограммы в квадрат - безумие."
   ]
  },
  {
   "cell_type": "code",
   "execution_count": 74,
   "metadata": {},
   "outputs": [
    {
     "data": {
      "text/plain": [
       "'soundtrack classical'"
      ]
     },
     "execution_count": 74,
     "metadata": {},
     "output_type": "execute_result"
    }
   ],
   "source": [
    "subset[0]['text']"
   ]
  },
  {
   "cell_type": "markdown",
   "metadata": {},
   "source": [
    "### Поэтому я превращу их в квадрат"
   ]
  },
  {
   "cell_type": "code",
   "execution_count": 90,
   "metadata": {},
   "outputs": [
    {
     "name": "stderr",
     "output_type": "stream",
     "text": [
      "/Users/akovel/anaconda3/envs/diploma/lib/python3.10/site-packages/torchvision/models/_utils.py:208: UserWarning: The parameter 'pretrained' is deprecated since 0.13 and may be removed in the future, please use 'weights' instead.\n",
      "  warnings.warn(\n",
      "/Users/akovel/anaconda3/envs/diploma/lib/python3.10/site-packages/torchvision/models/_utils.py:223: UserWarning: Arguments other than a weight enum or `None` for 'weights' are deprecated since 0.13 and may be removed in the future. The current behavior is equivalent to passing `weights=ResNet50_Weights.IMAGENET1K_V1`. You can also use `weights=ResNet50_Weights.DEFAULT` to get the most up-to-date weights.\n",
      "  warnings.warn(msg)\n"
     ]
    }
   ],
   "source": [
    "device = torch.device(\"cuda\" if torch.cuda.is_available() else \"cpu\")\n",
    "\n",
    "image_transforms = transforms.Compose([\n",
    "    transforms.Resize((128, 1028)),\n",
    "    transforms.ToTensor(),\n",
    "    transforms.Normalize(mean=[0.485, 0.456, 0.406], std=[0.229, 0.224, 0.225]),\n",
    "])\n",
    "\n",
    "model = models.resnet50(pretrained=True)\n",
    "model = nn.Sequential(*(list(model.children())[:-1])) \n",
    "model.eval().to(device) \n",
    "\n",
    "def extract_image_features(image):\n",
    "    image = image.convert(\"RGB\")\n",
    "    image_tensor = image_transforms(image).unsqueeze(0).to(device)\n",
    "    with torch.no_grad():\n",
    "        features = model(image_tensor).cpu().numpy()\n",
    "    return features.flatten()"
   ]
  },
  {
   "cell_type": "markdown",
   "metadata": {},
   "source": [
    "### Преобразуем изображения, для одинакового вида"
   ]
  },
  {
   "cell_type": "code",
   "execution_count": 91,
   "metadata": {},
   "outputs": [],
   "source": [
    "X_images = np.array([extract_image_features(image) for image in ds['image']])"
   ]
  },
  {
   "cell_type": "markdown",
   "metadata": {},
   "source": [
    "## Тренимся на изображениях. Смотрим в one hot encoding ЦЕЛИ жанров"
   ]
  },
  {
   "cell_type": "code",
   "execution_count": 92,
   "metadata": {},
   "outputs": [],
   "source": [
    "X = X_images\n",
    "\n",
    "mlb = MultiLabelBinarizer()\n",
    "y = mlb.fit_transform(ds['text'])"
   ]
  },
  {
   "cell_type": "code",
   "execution_count": 93,
   "metadata": {},
   "outputs": [],
   "source": [
    "X_train, X_test, y_train, y_test = train_test_split(X, y, test_size=0.2, random_state=42)"
   ]
  },
  {
   "cell_type": "markdown",
   "metadata": {},
   "source": [
    "### В Pytorch "
   ]
  },
  {
   "cell_type": "code",
   "execution_count": 94,
   "metadata": {},
   "outputs": [],
   "source": [
    "X_train_tensor = torch.tensor(X_train, dtype=torch.float32)\n",
    "y_train_tensor = torch.tensor(y_train, dtype=torch.float32)\n",
    "X_test_tensor = torch.tensor(X_test, dtype=torch.float32)\n",
    "y_test_tensor = torch.tensor(y_test, dtype=torch.float32)\n",
    "\n",
    "train_dataset = torch.utils.data.TensorDataset(X_train_tensor, y_train_tensor)\n",
    "train_loader = DataLoader(train_dataset, batch_size=16, shuffle=True)"
   ]
  },
  {
   "cell_type": "markdown",
   "metadata": {},
   "source": [
    "## Baseline LogsisticRegressinModel"
   ]
  },
  {
   "cell_type": "code",
   "execution_count": 95,
   "metadata": {},
   "outputs": [],
   "source": [
    "class LogisticRegressionModel(nn.Module):\n",
    "    def __init__(self, input_size):\n",
    "        super(LogisticRegressionModel, self).__init__()\n",
    "        self.linear = nn.Linear(input_size, y.shape[1])\n",
    "\n",
    "    def forward(self, x):\n",
    "        return self.linear(x)"
   ]
  },
  {
   "cell_type": "markdown",
   "metadata": {},
   "source": [
    "### Baseline CV Train"
   ]
  },
  {
   "cell_type": "code",
   "execution_count": 96,
   "metadata": {},
   "outputs": [
    {
     "name": "stdout",
     "output_type": "stream",
     "text": [
      "Epoch 0, Loss: 0.5242193937301636\n",
      "Epoch 10, Loss: 0.3317989110946655\n",
      "Epoch 20, Loss: 0.29196426272392273\n",
      "Epoch 30, Loss: 0.2641342282295227\n",
      "Epoch 40, Loss: 0.2588956952095032\n",
      "Epoch 50, Loss: 0.20149607956409454\n",
      "Epoch 60, Loss: 0.2096187025308609\n",
      "Epoch 70, Loss: 0.19369053840637207\n",
      "Epoch 80, Loss: 0.17578700184822083\n",
      "Epoch 90, Loss: 0.15726634860038757\n",
      "Accuracy: 0.03225806451612903\n"
     ]
    }
   ],
   "source": [
    "input_size = X.shape[1]\n",
    "model = LogisticRegressionModel(input_size).to(device)\n",
    "\n",
    "criterion = nn.BCEWithLogitsLoss()  \n",
    "optimizer = torch.optim.Adam(model.parameters(), lr=0.001)\n",
    "\n",
    "epochs = 100\n",
    "for epoch in range(epochs):\n",
    "    model.train()\n",
    "    for inputs, targets in train_loader:\n",
    "        inputs, targets = inputs.to(device), targets.to(device)\n",
    "\n",
    "        optimizer.zero_grad()\n",
    "        outputs = model(inputs)\n",
    "\n",
    "        loss = criterion(outputs, targets)\n",
    "        loss.backward()\n",
    "        optimizer.step()\n",
    "\n",
    "    if epoch % 10 == 0:\n",
    "        print(f'Epoch {epoch}, Loss: {loss.item()}')\n",
    "\n",
    "model.eval()\n",
    "with torch.no_grad():\n",
    "    outputs = model(X_test_tensor.to(device))\n",
    "    predictions = torch.sigmoid(outputs).cpu().numpy() > 0.5\n",
    "\n",
    "print(\"Accuracy:\", accuracy_score(y_test, predictions))"
   ]
  },
  {
   "cell_type": "markdown",
   "metadata": {},
   "source": [
    "## Пока получили нулевую точность. Так, как вообще данных нет"
   ]
  },
  {
   "cell_type": "markdown",
   "metadata": {},
   "source": [
    "## Напомню взял только 10 процентов"
   ]
  },
  {
   "cell_type": "code",
   "execution_count": 97,
   "metadata": {},
   "outputs": [
    {
     "name": "stdout",
     "output_type": "stream",
     "text": [
      "              precision    recall  f1-score   support\n",
      "\n",
      "                   1.00      1.00      1.00        28\n",
      "           0       0.00      0.00      0.00         1\n",
      "           8       0.00      0.00      0.00         1\n",
      "           a       0.83      0.96      0.89        25\n",
      "           b       0.40      0.15      0.22        13\n",
      "           c       0.85      0.88      0.86        25\n",
      "           d       0.56      0.36      0.43        14\n",
      "           e       0.79      0.96      0.87        24\n",
      "           f       0.00      0.00      0.00         3\n",
      "           g       0.50      0.17      0.25         6\n",
      "           h       0.50      0.27      0.35        11\n",
      "           i       0.83      1.00      0.91        25\n",
      "           j       0.00      0.00      0.00         0\n",
      "           k       0.67      0.27      0.38        15\n",
      "           l       0.73      0.96      0.83        23\n",
      "           m       0.43      0.27      0.33        11\n",
      "           n       0.86      0.96      0.91        25\n",
      "           o       0.93      0.96      0.95        27\n",
      "           p       0.80      0.33      0.47        12\n",
      "           r       0.71      0.91      0.80        22\n",
      "           s       0.81      0.74      0.77        23\n",
      "           t       0.77      1.00      0.87        24\n",
      "           u       0.56      0.36      0.43        14\n",
      "           v       0.00      0.00      0.00         2\n",
      "           w       0.00      0.00      0.00         2\n",
      "           x       1.00      1.00      1.00         1\n",
      "           y       0.00      0.00      0.00         4\n",
      "           z       0.00      0.00      0.00         0\n",
      "\n",
      "   micro avg       0.79      0.74      0.76       381\n",
      "   macro avg       0.52      0.48      0.48       381\n",
      "weighted avg       0.74      0.74      0.72       381\n",
      " samples avg       0.78      0.75      0.75       381\n",
      "\n"
     ]
    },
    {
     "name": "stderr",
     "output_type": "stream",
     "text": [
      "/Users/akovel/anaconda3/envs/diploma/lib/python3.10/site-packages/sklearn/metrics/_classification.py:1497: UndefinedMetricWarning: Precision is ill-defined and being set to 0.0 in labels with no predicted samples. Use `zero_division` parameter to control this behavior.\n",
      "  _warn_prf(average, modifier, f\"{metric.capitalize()} is\", len(result))\n",
      "/Users/akovel/anaconda3/envs/diploma/lib/python3.10/site-packages/sklearn/metrics/_classification.py:1497: UndefinedMetricWarning: Recall is ill-defined and being set to 0.0 in labels with no true samples. Use `zero_division` parameter to control this behavior.\n",
      "  _warn_prf(average, modifier, f\"{metric.capitalize()} is\", len(result))\n",
      "/Users/akovel/anaconda3/envs/diploma/lib/python3.10/site-packages/sklearn/metrics/_classification.py:1497: UndefinedMetricWarning: F-score is ill-defined and being set to 0.0 in labels with no true nor predicted samples. Use `zero_division` parameter to control this behavior.\n",
      "  _warn_prf(average, modifier, f\"{metric.capitalize()} is\", len(result))\n"
     ]
    }
   ],
   "source": [
    "print(classification_report(y_test, predictions, target_names=mlb.classes_))"
   ]
  },
  {
   "cell_type": "code",
   "execution_count": null,
   "metadata": {},
   "outputs": [],
   "source": []
  }
 ],
 "metadata": {
  "kernelspec": {
   "display_name": "diploma",
   "language": "python",
   "name": "python3"
  },
  "language_info": {
   "codemirror_mode": {
    "name": "ipython",
    "version": 3
   },
   "file_extension": ".py",
   "mimetype": "text/x-python",
   "name": "python",
   "nbconvert_exporter": "python",
   "pygments_lexer": "ipython3",
   "version": "3.10.13"
  },
  "orig_nbformat": 4
 },
 "nbformat": 4,
 "nbformat_minor": 2
}
